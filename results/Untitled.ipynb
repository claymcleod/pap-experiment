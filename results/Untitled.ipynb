{
 "cells": [
  {
   "cell_type": "code",
   "execution_count": 2,
   "metadata": {
    "collapsed": false,
    "scrolled": false
   },
   "outputs": [],
   "source": [
    "import re\n",
    "import os\n",
    "import sys\n",
    "import glob\n",
    "import codecs\n",
    "import pandas\n",
    "from subprocess import call\n",
    "from sklearn.preprocessing import LabelEncoder\n",
    "from sklearn.feature_extraction.text import TfidfVectorizer\n",
    "\n",
    "            \n",
    "DATA_DIR = './proj1/'\n",
    "TRAIN_DATA_DIR=os.path.join(DATA_DIR,'Train')\n",
    "TEST_DATA_DIR=os.path.join(DATA_DIR,'TestSet')\n",
    "VALIDATION_DATA_DIR=os.path.join(DATA_DIR,'Validation')\n",
    "\n",
    "filename_to_word_dict = {}\n",
    "\n",
    "def open_and_load_res(filename):\n",
    "    d = {}\n",
    "    with codecs.open(filename, \"r\",encoding='utf-8', errors='ignore') as f:\n",
    "        for line in f:\n",
    "            words = line.split()\n",
    "            if(len(words) > 1):\n",
    "                d[words[0]] = int(words[1])\n",
    "    \n",
    "    return d\n",
    "\n",
    "train_classes = []\n",
    "validation_classes = []\n",
    "train_files_as_strings = []\n",
    "validation_files_as_strings = []\n",
    "\n",
    "def get_data():\n",
    "    for z in glob.glob('{}/*/*.zip'.format(DATA_DIR)):\n",
    "        call(['unzip', z, '-d', '{}'.format(z.replace('.zip','/'))])\n",
    "        call(['rm', z])\n",
    "        \n",
    "    for f in glob.glob('{}/*/*.res'.format(TRAIN_DATA_DIR)):\n",
    "        matches = re.match(r'(.*)class_(.*)_(.*)', f)\n",
    "        if not matches:\n",
    "            print('Error! Could not match class')\n",
    "            sys.exit(-1)\n",
    "        clazz = matches.group(2) # Will always be at this index\n",
    "        file_dict = open_and_load_res(f)\n",
    "        string = ''\n",
    "        for (k, v) in file_dict.items():\n",
    "            for i in range(0, v): string = string +' '+ k\n",
    "        train_files_as_strings.append(string)\n",
    "        train_classes.append(clazz)\n",
    "    \n",
    "    for f in glob.glob('{}/*/*.res'.format(VALIDATION_DATA_DIR)):\n",
    "        matches = re.match(r'(.*)class_(.*)_(.*)', f)\n",
    "        if not matches:\n",
    "            print('Error! Could not match class')\n",
    "            sys.exit(-1)\n",
    "        clazz = matches.group(2) # Will always be at this index\n",
    "        file_dict = open_and_load_res(f)\n",
    "        string = ''\n",
    "        for (k, v) in file_dict.items():\n",
    "            for i in range(0, v): string = string +' '+ k\n",
    "        validation_files_as_strings.append(string)\n",
    "        validation_classes.append(clazz)\n",
    "    \n",
    "    x_vectorizer = TfidfVectorizer()\n",
    "    y_vectorizer = LabelEncoder()\n",
    "    X_train = x_vectorizer.fit_transform(train_files_as_strings)\n",
    "    Y_train = y_vectorizer.fit_transform(train_classes)\n",
    "    X_val = x_vectorizer.transform(validation_files_as_strings)\n",
    "    Y_val = y_vectorizer.fit_transform(validation_classes)\n",
    "    return (X_train, Y_train), (X_val, Y_val), x_vectorizer, y_vectorizer"
   ]
  },
  {
   "cell_type": "code",
   "execution_count": 3,
   "metadata": {
    "collapsed": false
   },
   "outputs": [
    {
     "name": "stdout",
     "output_type": "stream",
     "text": [
      "Loading data...\n"
     ]
    }
   ],
   "source": [
    "print('Loading data...')\n",
    "(X_train, y_train), (X_val, y_val), x_vectorizer, y_vectorizer = get_data()"
   ]
  },
  {
   "cell_type": "code",
   "execution_count": 5,
   "metadata": {
    "collapsed": false
   },
   "outputs": [
    {
     "name": "stdout",
     "output_type": "stream",
     "text": [
      "  (0, 44009)\t0.169006847597\n",
      "  (0, 26592)\t0.0410922121596\n",
      "  (0, 50752)\t0.0172071761809\n",
      "  (0, 56319)\t0.0819375987242\n",
      "  (0, 22828)\t0.0698161302591\n",
      "  (0, 7471)\t0.0990755271502\n",
      "  (0, 31984)\t0.148939238373\n",
      "  (0, 46857)\t0.0890622789652\n",
      "  (0, 71223)\t0.0369916322146\n",
      "  (0, 58890)\t0.112764322522\n",
      "  (0, 46895)\t0.0652080231203\n",
      "  (0, 653)\t0.148939238373\n",
      "  (0, 6886)\t0.120563850048\n",
      "  (0, 42725)\t0.0167097393396\n",
      "  (0, 48703)\t0.068840835333\n",
      "  (0, 29914)\t0.0947084960793\n",
      "  (0, 6346)\t0.0909942904735\n",
      "  (0, 56808)\t0.103863971001\n",
      "  (0, 44965)\t0.0496973710442\n",
      "  (0, 50150)\t0.0642053320593\n",
      "  (0, 63528)\t0.0166449157232\n",
      "  (0, 15453)\t0.0708521482448\n",
      "  (0, 38129)\t0.297878476746\n",
      "  (0, 37172)\t0.137401861969\n",
      "  (0, 61231)\t0.297878476746\n",
      "  (0, 66263)\t0.105617687905\n",
      "  (0, 44856)\t0.103863971001\n",
      "  (0, 32005)\t0.0166449157232\n",
      "  (0, 15357)\t0.148939238373\n",
      "  (0, 17338)\t0.0540558355088\n",
      "  (0, 66071)\t0.0411177803916\n",
      "  (0, 57072)\t0.0427426364423\n",
      "  (0, 46916)\t0.103863971001\n",
      "  (0, 41179)\t0.744696191864\n",
      "  (0, 55883)\t0.0734052527105\n"
     ]
    }
   ],
   "source": [
    "print(X_train[0])"
   ]
  },
  {
   "cell_type": "code",
   "execution_count": 88,
   "metadata": {
    "collapsed": false
   },
   "outputs": [
    {
     "name": "stdout",
     "output_type": "stream",
     "text": [
      "Fitting clf...\n",
      "alpha: 0.001\n",
      "Score was [ 0.98158209  0.98118208  0.97878828]\n"
     ]
    },
    {
     "data": {
      "text/plain": [
       "0.85924713584288048"
      ]
     },
     "execution_count": 88,
     "metadata": {},
     "output_type": "execute_result"
    }
   ],
   "source": [
    "from sklearn.grid_search import GridSearchCV\n",
    "from sklearn.linear_model import SGDClassifier\n",
    "import numpy as np\n",
    "\n",
    "print(\"Fitting clf...\")\n",
    "parameters = {'alpha': (1e-2, 1e-3)}\n",
    "clf = SGDClassifier(loss='hinge', penalty='l2', alpha=1e-3, n_iter=5, random_state=42)\n",
    "gs_clf = GridSearchCV(clf, parameters, n_jobs=-1)\n",
    "gs_clf.fit(X_train, y_train)\n",
    "best_parameters, score, _ = max(gs_clf.grid_scores_, key=lambda x: x[1])\n",
    "for param_name in sorted(parameters.keys()):\n",
    "    print(\"%s: %r\" % (param_name, best_parameters[param_name]))\n",
    "\n",
    "predicted = gs_clf.predict(X_val)\n",
    "np.mean(predicted == y_val)"
   ]
  },
  {
   "cell_type": "code",
   "execution_count": 13,
   "metadata": {
    "collapsed": false
   },
   "outputs": [
    {
     "name": "stdout",
     "output_type": "stream",
     "text": [
      "Fitting clf...\n",
      "fit_intercept: False\n",
      "loss: 'squared_hinge'\n",
      "tol: 0.0001\n"
     ]
    },
    {
     "data": {
      "text/plain": [
       "0.89525368248772508"
      ]
     },
     "execution_count": 13,
     "metadata": {},
     "output_type": "execute_result"
    }
   ],
   "source": [
    "from sklearn.grid_search import GridSearchCV\n",
    "from sklearn.svm import LinearSVC\n",
    "import numpy as np\n",
    "\n",
    "print(\"Fitting clf...\")\n",
    "parameters = {\n",
    "                'loss': ['hinge', 'squared_hinge'],\n",
    "                'fit_intercept': (True, False),\n",
    "                'tol': (1e-4, 1e-5)\n",
    "             }\n",
    "clf = LinearSVC(loss='hinge', fit_intercept=True)\n",
    "gs_clf = GridSearchCV(clf, parameters, n_jobs=-1)\n",
    "gs_clf.fit(X_train, y_train)\n",
    "gs_clf.predict(X_val)\n",
    "best_parameters, score, _ = max(gs_clf.grid_scores_, key=lambda x: x[1])\n",
    "for param_name in sorted(parameters.keys()):\n",
    "    print(\"%s: %r\" % (param_name, best_parameters[param_name]))\n",
    "\n",
    "predicted = gs_clf.predict(X_val)\n",
    "np.mean(predicted == y_val)"
   ]
  },
  {
   "cell_type": "code",
   "execution_count": 103,
   "metadata": {
    "collapsed": false
   },
   "outputs": [
    {
     "name": "stdout",
     "output_type": "stream",
     "text": [
      "Fitting clf...\n",
      "alpha: 0.1\n"
     ]
    },
    {
     "data": {
      "text/plain": [
       "0.88379705400982"
      ]
     },
     "execution_count": 103,
     "metadata": {},
     "output_type": "execute_result"
    }
   ],
   "source": [
    "from sklearn.grid_search import GridSearchCV\n",
    "from sklearn.naive_bayes import MultinomialNB\n",
    "import numpy as np\n",
    "\n",
    "print(\"Fitting clf...\")\n",
    "parameters = {\n",
    "                'alpha': (0.1, 1.0, 10.0)\n",
    "             }\n",
    "clf = MultinomialNB()\n",
    "gs_clf = GridSearchCV(clf, parameters, n_jobs=-1)\n",
    "gs_clf.fit(X_train, y_train)\n",
    "best_parameters, score, _ = max(gs_clf.grid_scores_, key=lambda x: x[1])\n",
    "for param_name in sorted(parameters.keys()):\n",
    "    print(\"%s: %r\" % (param_name, best_parameters[param_name]))\n",
    "\n",
    "predicted = gs_clf.predict(X_val)\n",
    "np.mean(predicted == y_val)"
   ]
  },
  {
   "cell_type": "code",
   "execution_count": 93,
   "metadata": {
    "collapsed": false
   },
   "outputs": [
    {
     "name": "stdout",
     "output_type": "stream",
     "text": [
      "Fitting clf...\n"
     ]
    },
    {
     "data": {
      "text/plain": [
       "0.76104746317512273"
      ]
     },
     "execution_count": 93,
     "metadata": {},
     "output_type": "execute_result"
    }
   ],
   "source": [
    "from sklearn.grid_search import GridSearchCV\n",
    "from sklearn.neighbors import KNeighborsClassifier\n",
    "import numpy as np\n",
    "\n",
    "print(\"Fitting clf...\")\n",
    "parameters = {}\n",
    "clf = KNeighborsClassifier(n_neighbors=8)\n",
    "gs_clf = GridSearchCV(clf, parameters, n_jobs=-1)\n",
    "gs_clf.fit(X_train, y_train)\n",
    "best_parameters, score, _ = max(gs_clf.grid_scores_, key=lambda x: x[1])\n",
    "for param_name in sorted(parameters.keys()):\n",
    "    print(\"%s: %r\" % (param_name, best_parameters[param_name]))\n",
    "\n",
    "predicted = gs_clf.predict(X_val)\n",
    "np.mean(predicted == y_val)"
   ]
  },
  {
   "cell_type": "code",
   "execution_count": 5,
   "metadata": {
    "collapsed": false
   },
   "outputs": [
    {
     "name": "stdout",
     "output_type": "stream",
     "text": [
      "Fitting clf...\n"
     ]
    },
    {
     "data": {
      "text/plain": [
       "0.88052373158756136"
      ]
     },
     "execution_count": 5,
     "metadata": {},
     "output_type": "execute_result"
    }
   ],
   "source": [
    "from sklearn.grid_search import GridSearchCV\n",
    "from sklearn.linear_model import RidgeClassifierCV\n",
    "import numpy as np\n",
    "\n",
    "print(\"Fitting clf...\")\n",
    "parameters = {}\n",
    "clf = RidgeClassifierCV(fit_intercept=True, normalize=True)\n",
    "gs_clf = GridSearchCV(clf, parameters, n_jobs=-1)\n",
    "gs_clf.fit(X_train, y_train)\n",
    "best_parameters, score, _ = max(gs_clf.grid_scores_, key=lambda x: x[1])\n",
    "for param_name in sorted(parameters.keys()):\n",
    "    print(\"%s: %r\" % (param_name, best_parameters[param_name]))\n",
    "\n",
    "predicted = gs_clf.predict(X_val)\n",
    "np.mean(predicted == y_val)"
   ]
  },
  {
   "cell_type": "code",
   "execution_count": 15,
   "metadata": {
    "collapsed": false
   },
   "outputs": [
    {
     "data": {
      "image/png": "[encoded data removed]",
      "text/plain": [
       "<matplotlib.figure.Figure at 0x10c34d4d0>"
      ]
     },
     "metadata": {},
     "output_type": "display_data"
    }
   ],
   "source": [
    "%matplotlib inline\n",
    "import matplotlib.pyplot as plt\n",
    "plt.scatter([1, 2, 3, 4], [1, 2, 3, 4])\n",
    "plt.show()"
   ]
  },
  {
   "cell_type": "code",
   "execution_count": null,
   "metadata": {
    "collapsed": true
   },
   "outputs": [],
   "source": []
  }
 ],
 "metadata": {
  "kernelspec": {
   "display_name": "Python 2",
   "language": "python",
   "name": "python2"
  },
  "language_info": {
   "codemirror_mode": {
    "name": "ipython",
    "version": 2
   },
   "file_extension": ".py",
   "mimetype": "text/x-python",
   "name": "python",
   "nbconvert_exporter": "python",
   "pygments_lexer": "ipython2",
   "version": "2.7.11"
  }
 },
 "nbformat": 4,
 "nbformat_minor": 0
}
