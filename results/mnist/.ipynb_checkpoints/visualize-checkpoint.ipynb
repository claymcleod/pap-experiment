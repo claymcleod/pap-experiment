{
 "cells": [
  {
   "cell_type": "code",
   "execution_count": 3,
   "metadata": {
    "collapsed": false
   },
   "outputs": [],
   "source": [
    "%matplotlib inline\n",
    "import glob\n",
    "import pandas\n",
    "import seaborn"
   ]
  },
  {
   "cell_type": "code",
   "execution_count": 5,
   "metadata": {
    "collapsed": false
   },
   "outputs": [
    {
     "name": "stdout",
     "output_type": "stream",
     "text": [
      "[]\n",
      "['0.125/mnist-mrelu-0.125.csv', '0.125/mnist-mrelu-t-0.125.csv', '0.125/mnist-prelu-0.125.csv', '0.125/mnist-relu-0.125.csv']\n",
      "['0.15/mnist-mrelu-0.15.csv', '0.15/mnist-mrelu-t-0.15.csv', '0.15/mnist-prelu-0.15.csv', '0.15/mnist-relu-0.15.csv']\n",
      "['0.2/mnist-mrelu-0.2.csv', '0.2/mnist-mrelu-t-0.2.csv', '0.2/mnist-prelu-0.2.csv', '0.2/mnist-relu-0.2.csv']\n",
      "['0.3/mnist-mrelu-0.3.csv', '0.3/mnist-mrelu-t-0.3.csv', '0.3/mnist-prelu-0.3.csv', '0.3/mnist-relu-0.3.csv']\n",
      "['0.5/mnist-mrelu-0.5.csv', '0.5/mnist-mrelu-t-0.5.csv', '0.5/mnist-prelu-0.5.csv', '0.5/mnist-relu-0.5.csv']\n"
     ]
    }
   ],
   "source": [
    "dataset = 'mnist'\n",
    "learning_rates = ['0.1', '0.125', '0.15', '0.2', '0.3', '0.5']\n",
    "for learning_rate in learning_rates:\n",
    "    files = glob.glob('{}/{}/*.csv'.format(dataset,learning_rate))\n",
    "    print(files)"
   ]
  },
  {
   "cell_type": "code",
   "execution_count": null,
   "metadata": {
    "collapsed": true
   },
   "outputs": [],
   "source": []
  }
 ],
 "metadata": {
  "kernelspec": {
   "display_name": "Python 2",
   "language": "python",
   "name": "python2"
  },
  "language_info": {
   "codemirror_mode": {
    "name": "ipython",
    "version": 2
   },
   "file_extension": ".py",
   "mimetype": "text/x-python",
   "name": "python",
   "nbconvert_exporter": "python",
   "pygments_lexer": "ipython2",
   "version": "2.7.11"
  }
 },
 "nbformat": 4,
 "nbformat_minor": 0
}
